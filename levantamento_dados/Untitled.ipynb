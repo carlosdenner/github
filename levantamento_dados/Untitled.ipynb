{
 "cells": [
  {
   "cell_type": "code",
   "execution_count": 3,
   "id": "141143cc-7e45-4923-8988-eb137a07e358",
   "metadata": {},
   "outputs": [
    {
     "name": "stdout",
     "output_type": "stream",
     "text": [
      "Deseja pesquisar por quais quesitos (palavras-chave):\n",
      "1ª palavra-chave: \n"
     ]
    },
    {
     "name": "stdin",
     "output_type": "stream",
     "text": [
      " topic\n"
     ]
    },
    {
     "name": "stdout",
     "output_type": "stream",
     "text": [
      "Valor da 1ª palavra-chave: \n"
     ]
    },
    {
     "name": "stdin",
     "output_type": "stream",
     "text": [
      " open-data\n"
     ]
    },
    {
     "name": "stdout",
     "output_type": "stream",
     "text": [
      "Deseja continuar (S,N): \n"
     ]
    },
    {
     "name": "stdin",
     "output_type": "stream",
     "text": [
      " N\n"
     ]
    },
    {
     "name": "stdout",
     "output_type": "stream",
     "text": [
      "Página: 1\n",
      "https://api.github.com/search/repositories?q=topic:open-data&sort=stars&order=desc&page=1&per_page=100\n",
      "Página: 2\n",
      "https://api.github.com/search/repositories?q=topic:open-data&sort=stars&order=desc&page=2&per_page=100\n",
      "Página: 3\n",
      "https://api.github.com/search/repositories?q=topic:open-data&sort=stars&order=desc&page=3&per_page=100\n",
      "Página: 4\n",
      "https://api.github.com/search/repositories?q=topic:open-data&sort=stars&order=desc&page=4&per_page=100\n",
      "Página: 5\n",
      "https://api.github.com/search/repositories?q=topic:open-data&sort=stars&order=desc&page=5&per_page=100\n",
      "Página: 6\n",
      "https://api.github.com/search/repositories?q=topic:open-data&sort=stars&order=desc&page=6&per_page=100\n",
      "Página: 7\n",
      "https://api.github.com/search/repositories?q=topic:open-data&sort=stars&order=desc&page=7&per_page=100\n",
      "Página: 8\n",
      "https://api.github.com/search/repositories?q=topic:open-data&sort=stars&order=desc&page=8&per_page=100\n",
      "Página: 9\n",
      "https://api.github.com/search/repositories?q=topic:open-data&sort=stars&order=desc&page=9&per_page=100\n",
      "Página: 10\n",
      "https://api.github.com/search/repositories?q=topic:open-data&sort=stars&order=desc&page=10&per_page=100\n"
     ]
    },
    {
     "ename": "OSError",
     "evalue": "[Errno 22] Invalid argument: 'topic:open-data-2021-06-14 12:36:47.657829.json'",
     "output_type": "error",
     "traceback": [
      "\u001b[1;31m---------------------------------------------------------------------------\u001b[0m",
      "\u001b[1;31mOSError\u001b[0m                                   Traceback (most recent call last)",
      "\u001b[1;32m<ipython-input-3-45757da41ded>\u001b[0m in \u001b[0;36m<module>\u001b[1;34m\u001b[0m\n\u001b[1;32m----> 1\u001b[1;33m \u001b[1;32mimport\u001b[0m \u001b[0mconsulta_repositorios\u001b[0m\u001b[1;33m\u001b[0m\u001b[1;33m\u001b[0m\u001b[0m\n\u001b[0m",
      "\u001b[1;32m~\\Dropbox\\Orientações\\Orientações - Doutorado\\Dyego\\git files\\github\\levantamento_dados\\consulta_repositorios.py\u001b[0m in \u001b[0;36m<module>\u001b[1;34m\u001b[0m\n\u001b[0;32m    114\u001b[0m \u001b[1;33m\u001b[0m\u001b[0m\n\u001b[0;32m    115\u001b[0m \u001b[1;31m# Grava json\u001b[0m\u001b[1;33m\u001b[0m\u001b[1;33m\u001b[0m\u001b[1;33m\u001b[0m\u001b[0m\n\u001b[1;32m--> 116\u001b[1;33m \u001b[0mgravar_arquivo_json\u001b[0m\u001b[1;33m(\u001b[0m\u001b[0mnome_arquivo\u001b[0m\u001b[1;33m,\u001b[0m \u001b[0marquivo_json\u001b[0m\u001b[1;33m)\u001b[0m\u001b[1;33m\u001b[0m\u001b[1;33m\u001b[0m\u001b[0m\n\u001b[0m\u001b[0;32m    117\u001b[0m \u001b[1;33m\u001b[0m\u001b[0m\n\u001b[0;32m    118\u001b[0m \u001b[1;31m# Leitura json\u001b[0m\u001b[1;33m\u001b[0m\u001b[1;33m\u001b[0m\u001b[1;33m\u001b[0m\u001b[0m\n",
      "\u001b[1;32m~\\Dropbox\\Orientações\\Orientações - Doutorado\\Dyego\\git files\\github\\levantamento_dados\\consulta_repositorios.py\u001b[0m in \u001b[0;36mgravar_arquivo_json\u001b[1;34m(nome_arquivo, dados)\u001b[0m\n\u001b[0;32m     61\u001b[0m \u001b[1;33m\u001b[0m\u001b[0m\n\u001b[0;32m     62\u001b[0m \u001b[1;32mdef\u001b[0m \u001b[0mgravar_arquivo_json\u001b[0m\u001b[1;33m(\u001b[0m\u001b[0mnome_arquivo\u001b[0m\u001b[1;33m,\u001b[0m \u001b[0mdados\u001b[0m\u001b[1;33m)\u001b[0m\u001b[1;33m:\u001b[0m\u001b[1;33m\u001b[0m\u001b[1;33m\u001b[0m\u001b[0m\n\u001b[1;32m---> 63\u001b[1;33m     \u001b[1;32mwith\u001b[0m \u001b[0mopen\u001b[0m\u001b[1;33m(\u001b[0m\u001b[0mnome_arquivo\u001b[0m\u001b[1;33m,\u001b[0m \u001b[1;34m'w'\u001b[0m\u001b[1;33m,\u001b[0m \u001b[0mencoding\u001b[0m\u001b[1;33m=\u001b[0m\u001b[1;34m'utf-8'\u001b[0m\u001b[1;33m)\u001b[0m \u001b[1;32mas\u001b[0m \u001b[0mf\u001b[0m\u001b[1;33m:\u001b[0m\u001b[1;33m\u001b[0m\u001b[1;33m\u001b[0m\u001b[0m\n\u001b[0m\u001b[0;32m     64\u001b[0m         \u001b[0mjson\u001b[0m\u001b[1;33m.\u001b[0m\u001b[0mdump\u001b[0m\u001b[1;33m(\u001b[0m\u001b[0mdados\u001b[0m\u001b[1;33m,\u001b[0m \u001b[0mf\u001b[0m\u001b[1;33m,\u001b[0m \u001b[0mensure_ascii\u001b[0m\u001b[1;33m=\u001b[0m\u001b[1;32mFalse\u001b[0m\u001b[1;33m,\u001b[0m \u001b[0mindent\u001b[0m\u001b[1;33m=\u001b[0m\u001b[1;36m2\u001b[0m\u001b[1;33m,\u001b[0m \u001b[0msort_keys\u001b[0m\u001b[1;33m=\u001b[0m\u001b[1;32mFalse\u001b[0m\u001b[1;33m,\u001b[0m \u001b[0mseparators\u001b[0m\u001b[1;33m=\u001b[0m\u001b[1;33m(\u001b[0m\u001b[1;34m','\u001b[0m \u001b[1;33m,\u001b[0m \u001b[1;34m':'\u001b[0m\u001b[1;33m)\u001b[0m\u001b[1;33m)\u001b[0m\u001b[1;33m\u001b[0m\u001b[1;33m\u001b[0m\u001b[0m\n\u001b[0;32m     65\u001b[0m \u001b[1;33m\u001b[0m\u001b[0m\n",
      "\u001b[1;31mOSError\u001b[0m: [Errno 22] Invalid argument: 'topic:open-data-2021-06-14 12:36:47.657829.json'"
     ]
    }
   ],
   "source": [
    "import consulta_repositorios\n"
   ]
  },
  {
   "cell_type": "code",
   "execution_count": 4,
   "id": "99526e34-3003-4fdc-ad06-da874cd5ec78",
   "metadata": {},
   "outputs": [
    {
     "name": "stdout",
     "output_type": "stream",
     "text": [
      "Erro - Arquivo base_dados_repositorios.json não foi localizados!\n"
     ]
    }
   ],
   "source": [
    "import visualiza_dados"
   ]
  }
 ],
 "metadata": {
  "kernelspec": {
   "display_name": "Python 3",
   "language": "python",
   "name": "python3"
  },
  "language_info": {
   "codemirror_mode": {
    "name": "ipython",
    "version": 3
   },
   "file_extension": ".py",
   "mimetype": "text/x-python",
   "name": "python",
   "nbconvert_exporter": "python",
   "pygments_lexer": "ipython3",
   "version": "3.8.8"
  },
  "widgets": {
   "application/vnd.jupyter.widget-state+json": {
    "state": {},
    "version_major": 2,
    "version_minor": 0
   }
  }
 },
 "nbformat": 4,
 "nbformat_minor": 5
}
