{
 "cells": [
  {
   "cell_type": "code",
   "execution_count": 1,
   "id": "fec65ba8-11dd-4691-b289-a00ef6063201",
   "metadata": {},
   "outputs": [
    {
     "name": "stdout",
     "output_type": "stream",
     "text": [
      "Consulta Repositórios\n",
      "1ª palavra-chave (Exemplo: topic): \n"
     ]
    },
    {
     "name": "stdin",
     "output_type": "stream",
     "text": [
      " topic\n"
     ]
    },
    {
     "name": "stdout",
     "output_type": "stream",
     "text": [
      "Valor da 1ª palavra-chave (Exemplos: data , database , data-science , data-structures , machine-learning , data-visualization , data-analysis , dataset , firebase , json): \n"
     ]
    },
    {
     "name": "stdin",
     "output_type": "stream",
     "text": [
      " json\n"
     ]
    },
    {
     "name": "stdout",
     "output_type": "stream",
     "text": [
      "Deseja continuar (S,N): \n"
     ]
    },
    {
     "name": "stdin",
     "output_type": "stream",
     "text": [
      " n\n"
     ]
    },
    {
     "name": "stdout",
     "output_type": "stream",
     "text": [
      "Erro ! - Informar S ou N !\n",
      "Deseja continuar (S,N): \n"
     ]
    },
    {
     "name": "stdin",
     "output_type": "stream",
     "text": [
      " N\n"
     ]
    },
    {
     "name": "stdout",
     "output_type": "stream",
     "text": [
      "Carregando... Espere 1 minuto.\n",
      "Página: 1\n",
      "https://api.github.com/search/repositories?q=topic:json&sort=stars&order=desc&page=1&per_page=100\n",
      "Página: 2\n",
      "https://api.github.com/search/repositories?q=topic:json&sort=stars&order=desc&page=2&per_page=100\n",
      "Página: 3\n",
      "https://api.github.com/search/repositories?q=topic:json&sort=stars&order=desc&page=3&per_page=100\n",
      "Página: 4\n",
      "https://api.github.com/search/repositories?q=topic:json&sort=stars&order=desc&page=4&per_page=100\n",
      "Página: 5\n",
      "https://api.github.com/search/repositories?q=topic:json&sort=stars&order=desc&page=5&per_page=100\n",
      "Página: 6\n",
      "https://api.github.com/search/repositories?q=topic:json&sort=stars&order=desc&page=6&per_page=100\n",
      "Página: 7\n",
      "https://api.github.com/search/repositories?q=topic:json&sort=stars&order=desc&page=7&per_page=100\n",
      "Página: 8\n",
      "https://api.github.com/search/repositories?q=topic:json&sort=stars&order=desc&page=8&per_page=100\n",
      "Página: 9\n",
      "https://api.github.com/search/repositories?q=topic:json&sort=stars&order=desc&page=9&per_page=100\n",
      "Página: 10\n",
      "https://api.github.com/search/repositories?q=topic:json&sort=stars&order=desc&page=10&per_page=100\n"
     ]
    },
    {
     "ename": "OSError",
     "evalue": "[Errno 22] Invalid argument: 'topic:json-2021-06-22T12:56:47.293940.json'",
     "output_type": "error",
     "traceback": [
      "\u001b[1;31m---------------------------------------------------------------------------\u001b[0m",
      "\u001b[1;31mOSError\u001b[0m                                   Traceback (most recent call last)",
      "\u001b[1;32m<ipython-input-1-45757da41ded>\u001b[0m in \u001b[0;36m<module>\u001b[1;34m\u001b[0m\n\u001b[1;32m----> 1\u001b[1;33m \u001b[1;32mimport\u001b[0m \u001b[0mconsulta_repositorios\u001b[0m\u001b[1;33m\u001b[0m\u001b[1;33m\u001b[0m\u001b[0m\n\u001b[0m",
      "\u001b[1;32m~\\Dropbox\\Orientações\\Orientações - Doutorado\\Dyego\\git files\\github\\levantamento_dados\\consulta_repositorios.py\u001b[0m in \u001b[0;36m<module>\u001b[1;34m\u001b[0m\n\u001b[0;32m    135\u001b[0m \u001b[1;33m\u001b[0m\u001b[0m\n\u001b[0;32m    136\u001b[0m \u001b[1;31m# Grava json\u001b[0m\u001b[1;33m\u001b[0m\u001b[1;33m\u001b[0m\u001b[1;33m\u001b[0m\u001b[0m\n\u001b[1;32m--> 137\u001b[1;33m \u001b[0mgravar_arquivo_json\u001b[0m\u001b[1;33m(\u001b[0m\u001b[0mnome_arquivo\u001b[0m\u001b[1;33m,\u001b[0m \u001b[0marquivo_json\u001b[0m\u001b[1;33m)\u001b[0m\u001b[1;33m\u001b[0m\u001b[1;33m\u001b[0m\u001b[0m\n\u001b[0m",
      "\u001b[1;32m~\\Dropbox\\Orientações\\Orientações - Doutorado\\Dyego\\git files\\github\\levantamento_dados\\consulta_repositorios.py\u001b[0m in \u001b[0;36mgravar_arquivo_json\u001b[1;34m(nome_arquivo, dados)\u001b[0m\n\u001b[0;32m     74\u001b[0m \u001b[1;33m\u001b[0m\u001b[0m\n\u001b[0;32m     75\u001b[0m \u001b[1;32mdef\u001b[0m \u001b[0mgravar_arquivo_json\u001b[0m\u001b[1;33m(\u001b[0m\u001b[0mnome_arquivo\u001b[0m\u001b[1;33m,\u001b[0m \u001b[0mdados\u001b[0m\u001b[1;33m)\u001b[0m\u001b[1;33m:\u001b[0m\u001b[1;33m\u001b[0m\u001b[1;33m\u001b[0m\u001b[0m\n\u001b[1;32m---> 76\u001b[1;33m     \u001b[1;32mwith\u001b[0m \u001b[0mopen\u001b[0m\u001b[1;33m(\u001b[0m\u001b[0mnome_arquivo\u001b[0m\u001b[1;33m,\u001b[0m \u001b[1;34m'w'\u001b[0m\u001b[1;33m,\u001b[0m \u001b[0mencoding\u001b[0m\u001b[1;33m=\u001b[0m\u001b[1;34m'utf-8'\u001b[0m\u001b[1;33m)\u001b[0m \u001b[1;32mas\u001b[0m \u001b[0mf\u001b[0m\u001b[1;33m:\u001b[0m\u001b[1;33m\u001b[0m\u001b[1;33m\u001b[0m\u001b[0m\n\u001b[0m\u001b[0;32m     77\u001b[0m         \u001b[0mjson\u001b[0m\u001b[1;33m.\u001b[0m\u001b[0mdump\u001b[0m\u001b[1;33m(\u001b[0m\u001b[0mdados\u001b[0m\u001b[1;33m,\u001b[0m \u001b[0mf\u001b[0m\u001b[1;33m,\u001b[0m \u001b[0mensure_ascii\u001b[0m\u001b[1;33m=\u001b[0m\u001b[1;32mFalse\u001b[0m\u001b[1;33m,\u001b[0m \u001b[0mindent\u001b[0m\u001b[1;33m=\u001b[0m\u001b[1;36m2\u001b[0m\u001b[1;33m,\u001b[0m \u001b[0msort_keys\u001b[0m\u001b[1;33m=\u001b[0m\u001b[1;32mFalse\u001b[0m\u001b[1;33m,\u001b[0m \u001b[0mseparators\u001b[0m\u001b[1;33m=\u001b[0m\u001b[1;33m(\u001b[0m\u001b[1;34m','\u001b[0m \u001b[1;33m,\u001b[0m \u001b[1;34m':'\u001b[0m\u001b[1;33m)\u001b[0m\u001b[1;33m)\u001b[0m\u001b[1;33m\u001b[0m\u001b[1;33m\u001b[0m\u001b[0m\n\u001b[0;32m     78\u001b[0m \u001b[1;33m\u001b[0m\u001b[0m\n",
      "\u001b[1;31mOSError\u001b[0m: [Errno 22] Invalid argument: 'topic:json-2021-06-22T12:56:47.293940.json'"
     ]
    }
   ],
   "source": [
    "import consulta_repositorios"
   ]
  },
  {
   "cell_type": "code",
   "execution_count": 2,
   "id": "dac2d8c5-ef3c-482e-9009-9dbef07dca56",
   "metadata": {},
   "outputs": [
    {
     "name": "stdout",
     "output_type": "stream",
     "text": [
      "Informe o nome do arquivo.json que deseja incluir na base de dados: \n"
     ]
    },
    {
     "name": "stdin",
     "output_type": "stream",
     "text": [
      " topic:opendata+topic:open-data-2021-06-14T21:23:16.571408.json\n"
     ]
    }
   ],
   "source": [
    "import atualiza_base"
   ]
  },
  {
   "cell_type": "code",
   "execution_count": 3,
   "id": "76877ffe-a7f0-41ab-ad30-14801112ba10",
   "metadata": {},
   "outputs": [
    {
     "data": {
      "application/vnd.jupyter.widget-view+json": {
       "model_id": "c9b45aeacb8749b5b93cf28ba1fe0432",
       "version_major": 2,
       "version_minor": 0
      },
      "text/plain": [
       "                                             |          | [  0%]   00:00 -> (? left)"
      ]
     },
     "metadata": {},
     "output_type": "display_data"
    },
    {
     "name": "stdout",
     "output_type": "stream",
     "text": [
      "Report analise_dados.html was generated! NOTEBOOK/COLAB USERS: the web browser MAY not pop up, regardless, the report IS saved in your notebook/colab files.\n"
     ]
    }
   ],
   "source": [
    "import visualiza_dados"
   ]
  },
  {
   "cell_type": "code",
   "execution_count": null,
   "id": "3e1ec360-29cc-4758-bd57-eca6514f93bd",
   "metadata": {},
   "outputs": [],
   "source": []
  }
 ],
 "metadata": {
  "kernelspec": {
   "display_name": "Python 3",
   "language": "python",
   "name": "python3"
  },
  "language_info": {
   "codemirror_mode": {
    "name": "ipython",
    "version": 3
   },
   "file_extension": ".py",
   "mimetype": "text/x-python",
   "name": "python",
   "nbconvert_exporter": "python",
   "pygments_lexer": "ipython3",
   "version": "3.8.8"
  },
  "widgets": {
   "application/vnd.jupyter.widget-state+json": {
    "state": {},
    "version_major": 2,
    "version_minor": 0
   }
  }
 },
 "nbformat": 4,
 "nbformat_minor": 5
}
