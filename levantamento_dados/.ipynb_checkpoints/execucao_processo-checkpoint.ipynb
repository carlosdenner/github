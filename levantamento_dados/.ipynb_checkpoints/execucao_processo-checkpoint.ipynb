{
 "cells": [
  {
   "cell_type": "code",
   "execution_count": 1,
   "id": "fec65ba8-11dd-4691-b289-a00ef6063201",
   "metadata": {},
   "outputs": [
    {
     "name": "stdout",
     "output_type": "stream",
     "text": [
      "Deseja pesquisar por quais quesitos (palavras-chave):\n",
      "1ª palavra-chave: \n"
     ]
    },
    {
     "name": "stdin",
     "output_type": "stream",
     "text": [
      " topic\n"
     ]
    },
    {
     "name": "stdout",
     "output_type": "stream",
     "text": [
      "Valor da 1ª palavra-chave: \n"
     ]
    },
    {
     "name": "stdin",
     "output_type": "stream",
     "text": [
      " open-data\n"
     ]
    },
    {
     "name": "stdout",
     "output_type": "stream",
     "text": [
      "Deseja continuar (S,N): \n"
     ]
    },
    {
     "name": "stdin",
     "output_type": "stream",
     "text": [
      " S\n"
     ]
    },
    {
     "name": "stdout",
     "output_type": "stream",
     "text": [
      "2ª palavra-chave: \n"
     ]
    },
    {
     "name": "stdin",
     "output_type": "stream",
     "text": [
      " topic\n"
     ]
    },
    {
     "name": "stdout",
     "output_type": "stream",
     "text": [
      "Valor da 2ª palavra-chave: \n"
     ]
    },
    {
     "name": "stdin",
     "output_type": "stream",
     "text": [
      " opendata\n"
     ]
    },
    {
     "name": "stdout",
     "output_type": "stream",
     "text": [
      "Deseja continuar (S,N): \n"
     ]
    },
    {
     "name": "stdin",
     "output_type": "stream",
     "text": [
      " N\n"
     ]
    },
    {
     "name": "stdout",
     "output_type": "stream",
     "text": [
      "Página: 1\n",
      "https://api.github.com/search/repositories?q=topic:opendata+topic:open-data&sort=stars&order=desc&page=1&per_page=100\n",
      "Página: 2\n",
      "https://api.github.com/search/repositories?q=topic:opendata+topic:open-data&sort=stars&order=desc&page=2&per_page=100\n"
     ]
    }
   ],
   "source": [
    "import consulta_repositorios"
   ]
  },
  {
   "cell_type": "code",
   "execution_count": 2,
   "id": "dac2d8c5-ef3c-482e-9009-9dbef07dca56",
   "metadata": {},
   "outputs": [
    {
     "name": "stdout",
     "output_type": "stream",
     "text": [
      "Informe o nome do arquivo.json que deseja incluir na base de dados: \n"
     ]
    },
    {
     "name": "stdin",
     "output_type": "stream",
     "text": [
      " topic:opendata+topic:open-data-2021-06-14T21:23:16.571408.json\n"
     ]
    }
   ],
   "source": [
    "import atualiza_base"
   ]
  },
  {
   "cell_type": "code",
   "execution_count": 3,
   "id": "76877ffe-a7f0-41ab-ad30-14801112ba10",
   "metadata": {},
   "outputs": [
    {
     "data": {
      "application/vnd.jupyter.widget-view+json": {
       "model_id": "c9b45aeacb8749b5b93cf28ba1fe0432",
       "version_major": 2,
       "version_minor": 0
      },
      "text/plain": [
       "                                             |          | [  0%]   00:00 -> (? left)"
      ]
     },
     "metadata": {},
     "output_type": "display_data"
    },
    {
     "name": "stdout",
     "output_type": "stream",
     "text": [
      "Report analise_dados.html was generated! NOTEBOOK/COLAB USERS: the web browser MAY not pop up, regardless, the report IS saved in your notebook/colab files.\n"
     ]
    }
   ],
   "source": [
    "import visualiza_dados"
   ]
  },
  {
   "cell_type": "code",
   "execution_count": null,
   "id": "3e1ec360-29cc-4758-bd57-eca6514f93bd",
   "metadata": {},
   "outputs": [],
   "source": []
  }
 ],
 "metadata": {
  "kernelspec": {
   "display_name": "Python 3",
   "language": "python",
   "name": "python3"
  },
  "language_info": {
   "codemirror_mode": {
    "name": "ipython",
    "version": 3
   },
   "file_extension": ".py",
   "mimetype": "text/x-python",
   "name": "python",
   "nbconvert_exporter": "python",
   "pygments_lexer": "ipython3",
   "version": "3.8.8"
  },
  "widgets": {
   "application/vnd.jupyter.widget-state+json": {
    "state": {},
    "version_major": 2,
    "version_minor": 0
   }
  }
 },
 "nbformat": 4,
 "nbformat_minor": 5
}
