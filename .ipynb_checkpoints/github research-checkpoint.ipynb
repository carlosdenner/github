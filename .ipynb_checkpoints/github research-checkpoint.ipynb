{
 "cells": [
  {
   "cell_type": "markdown",
   "id": "41d0ba6f",
   "metadata": {},
   "source": [
    "Os dados que estamos buscando são os seguintes:\n",
    "\n",
    "1º - Analisaremos repositórios Java script – Esta linguagem foi selecionada pois diversos estudos relatam que é a linguagem que é mais utilizada nos repositórios do Github;\n",
    "\n",
    "2º - Para cada repositório é necessário levantar os dados históricos relativos às quantidades de: Estrelas, Bifurcações e Colaboradores;\n",
    "\n",
    "3º - Identificar/Levantar os Pull Request de cada repositório, e para cada Pull Request: a data que ele iniciou e quem foram os participantes;\n",
    "\n",
    "4º - Identificar a data em que cada participante se vinculou ao repositório."
   ]
  },
  {
   "cell_type": "code",
   "execution_count": 13,
   "id": "c4a99d38",
   "metadata": {},
   "outputs": [],
   "source": [
    "import urllib\n",
    "import pandas as pd\n",
    "url = 'https://api.github.com/search/repositories?q=stars:%3E=30+language:javascript&sort=stars&order=desc&page=0'\n",
    "urllib.request.urlretrieve(url, 'hi.json')\n",
    "df = pd.read_json('hi.json')"
   ]
  },
  {
   "cell_type": "code",
   "execution_count": 14,
   "id": "acabb889",
   "metadata": {},
   "outputs": [
    {
     "data": {
      "text/plain": [
       "total_count            int64\n",
       "incomplete_results      bool\n",
       "items                 object\n",
       "dtype: object"
      ]
     },
     "execution_count": 14,
     "metadata": {},
     "output_type": "execute_result"
    }
   ],
   "source": [
    "df.dtypes"
   ]
  },
  {
   "cell_type": "code",
   "execution_count": 15,
   "id": "a78bbc37",
   "metadata": {},
   "outputs": [
    {
     "data": {
      "text/plain": [
       "total_count            int64\n",
       "incomplete_results      bool\n",
       "id                     int64\n",
       "node_id               object\n",
       "name                  object\n",
       "                       ...  \n",
       "license.key           object\n",
       "license.name          object\n",
       "license.spdx_id       object\n",
       "license.url           object\n",
       "license.node_id       object\n",
       "Length: 97, dtype: object"
      ]
     },
     "execution_count": 15,
     "metadata": {},
     "output_type": "execute_result"
    }
   ],
   "source": [
    "from pandas import json_normalize\n",
    "\n",
    "df1 = df.drop('items', axis=1)\n",
    "df2 = json_normalize(df['items'])\n",
    "df = df1.merge(df2, left_index=True, right_index=True)\n",
    "df.dtypes"
   ]
  },
  {
   "cell_type": "code",
   "execution_count": 16,
   "id": "23fe3461",
   "metadata": {},
   "outputs": [
    {
     "data": {
      "text/plain": [
       "(30, 97)"
      ]
     },
     "execution_count": 16,
     "metadata": {},
     "output_type": "execute_result"
    }
   ],
   "source": [
    "df.shape"
   ]
  },
  {
   "cell_type": "code",
   "execution_count": 11,
   "id": "b1750a70",
   "metadata": {},
   "outputs": [
    {
     "data": {
      "text/html": [
       "<div>\n",
       "<style scoped>\n",
       "    .dataframe tbody tr th:only-of-type {\n",
       "        vertical-align: middle;\n",
       "    }\n",
       "\n",
       "    .dataframe tbody tr th {\n",
       "        vertical-align: top;\n",
       "    }\n",
       "\n",
       "    .dataframe thead th {\n",
       "        text-align: right;\n",
       "    }\n",
       "</style>\n",
       "<table border=\"1\" class=\"dataframe\">\n",
       "  <thead>\n",
       "    <tr style=\"text-align: right;\">\n",
       "      <th></th>\n",
       "      <th>total_count</th>\n",
       "      <th>id</th>\n",
       "      <th>size</th>\n",
       "      <th>stargazers_count</th>\n",
       "      <th>watchers_count</th>\n",
       "      <th>forks_count</th>\n",
       "      <th>open_issues_count</th>\n",
       "      <th>forks</th>\n",
       "      <th>open_issues</th>\n",
       "      <th>watchers</th>\n",
       "      <th>score</th>\n",
       "      <th>owner.id</th>\n",
       "    </tr>\n",
       "  </thead>\n",
       "  <tbody>\n",
       "    <tr>\n",
       "      <th>count</th>\n",
       "      <td>30.0</td>\n",
       "      <td>3.000000e+01</td>\n",
       "      <td>30.000000</td>\n",
       "      <td>30.00000</td>\n",
       "      <td>30.00000</td>\n",
       "      <td>30.000000</td>\n",
       "      <td>30.000000</td>\n",
       "      <td>30.000000</td>\n",
       "      <td>30.000000</td>\n",
       "      <td>30.00000</td>\n",
       "      <td>30.0</td>\n",
       "      <td>3.000000e+01</td>\n",
       "    </tr>\n",
       "    <tr>\n",
       "      <th>mean</th>\n",
       "      <td>99815.0</td>\n",
       "      <td>2.849856e+07</td>\n",
       "      <td>137228.000000</td>\n",
       "      <td>87004.80000</td>\n",
       "      <td>87004.80000</td>\n",
       "      <td>17766.566667</td>\n",
       "      <td>603.066667</td>\n",
       "      <td>17766.566667</td>\n",
       "      <td>603.066667</td>\n",
       "      <td>87004.80000</td>\n",
       "      <td>1.0</td>\n",
       "      <td>7.875450e+06</td>\n",
       "    </tr>\n",
       "    <tr>\n",
       "      <th>std</th>\n",
       "      <td>0.0</td>\n",
       "      <td>3.665565e+07</td>\n",
       "      <td>240889.283821</td>\n",
       "      <td>56532.29316</td>\n",
       "      <td>56532.29316</td>\n",
       "      <td>13314.494810</td>\n",
       "      <td>1042.513042</td>\n",
       "      <td>13314.494810</td>\n",
       "      <td>1042.513042</td>\n",
       "      <td>56532.29316</td>\n",
       "      <td>0.0</td>\n",
       "      <td>1.124991e+07</td>\n",
       "    </tr>\n",
       "    <tr>\n",
       "      <th>min</th>\n",
       "      <td>99815.0</td>\n",
       "      <td>1.671740e+05</td>\n",
       "      <td>543.000000</td>\n",
       "      <td>51553.00000</td>\n",
       "      <td>51553.00000</td>\n",
       "      <td>4495.000000</td>\n",
       "      <td>1.000000</td>\n",
       "      <td>4495.000000</td>\n",
       "      <td>1.000000</td>\n",
       "      <td>51553.00000</td>\n",
       "      <td>1.0</td>\n",
       "      <td>6.963100e+04</td>\n",
       "    </tr>\n",
       "    <tr>\n",
       "      <th>25%</th>\n",
       "      <td>99815.0</td>\n",
       "      <td>2.401809e+06</td>\n",
       "      <td>14885.000000</td>\n",
       "      <td>54896.25000</td>\n",
       "      <td>54896.25000</td>\n",
       "      <td>8363.500000</td>\n",
       "      <td>107.000000</td>\n",
       "      <td>8363.500000</td>\n",
       "      <td>107.000000</td>\n",
       "      <td>54896.25000</td>\n",
       "      <td>1.0</td>\n",
       "      <td>6.466810e+05</td>\n",
       "    </tr>\n",
       "    <tr>\n",
       "      <th>50%</th>\n",
       "      <td>99815.0</td>\n",
       "      <td>1.100030e+07</td>\n",
       "      <td>30119.000000</td>\n",
       "      <td>66211.00000</td>\n",
       "      <td>66211.00000</td>\n",
       "      <td>15807.500000</td>\n",
       "      <td>298.000000</td>\n",
       "      <td>15807.500000</td>\n",
       "      <td>298.000000</td>\n",
       "      <td>66211.00000</td>\n",
       "      <td>1.0</td>\n",
       "      <td>2.959433e+06</td>\n",
       "    </tr>\n",
       "    <tr>\n",
       "      <th>75%</th>\n",
       "      <td>99815.0</td>\n",
       "      <td>3.473222e+07</td>\n",
       "      <td>149561.250000</td>\n",
       "      <td>93439.25000</td>\n",
       "      <td>93439.25000</td>\n",
       "      <td>21858.000000</td>\n",
       "      <td>635.500000</td>\n",
       "      <td>21858.000000</td>\n",
       "      <td>635.500000</td>\n",
       "      <td>93439.25000</td>\n",
       "      <td>1.0</td>\n",
       "      <td>9.935865e+06</td>\n",
       "    </tr>\n",
       "    <tr>\n",
       "      <th>max</th>\n",
       "      <td>99815.0</td>\n",
       "      <td>1.265773e+08</td>\n",
       "      <td>969739.000000</td>\n",
       "      <td>323946.00000</td>\n",
       "      <td>323946.00000</td>\n",
       "      <td>73268.000000</td>\n",
       "      <td>5650.000000</td>\n",
       "      <td>73268.000000</td>\n",
       "      <td>5650.000000</td>\n",
       "      <td>323946.00000</td>\n",
       "      <td>1.0</td>\n",
       "      <td>4.347943e+07</td>\n",
       "    </tr>\n",
       "  </tbody>\n",
       "</table>\n",
       "</div>"
      ],
      "text/plain": [
       "       total_count            id           size  stargazers_count  \\\n",
       "count         30.0  3.000000e+01      30.000000          30.00000   \n",
       "mean       99815.0  2.849856e+07  137228.000000       87004.80000   \n",
       "std            0.0  3.665565e+07  240889.283821       56532.29316   \n",
       "min        99815.0  1.671740e+05     543.000000       51553.00000   \n",
       "25%        99815.0  2.401809e+06   14885.000000       54896.25000   \n",
       "50%        99815.0  1.100030e+07   30119.000000       66211.00000   \n",
       "75%        99815.0  3.473222e+07  149561.250000       93439.25000   \n",
       "max        99815.0  1.265773e+08  969739.000000      323946.00000   \n",
       "\n",
       "       watchers_count   forks_count  open_issues_count         forks  \\\n",
       "count        30.00000     30.000000          30.000000     30.000000   \n",
       "mean      87004.80000  17766.566667         603.066667  17766.566667   \n",
       "std       56532.29316  13314.494810        1042.513042  13314.494810   \n",
       "min       51553.00000   4495.000000           1.000000   4495.000000   \n",
       "25%       54896.25000   8363.500000         107.000000   8363.500000   \n",
       "50%       66211.00000  15807.500000         298.000000  15807.500000   \n",
       "75%       93439.25000  21858.000000         635.500000  21858.000000   \n",
       "max      323946.00000  73268.000000        5650.000000  73268.000000   \n",
       "\n",
       "       open_issues      watchers  score      owner.id  \n",
       "count    30.000000      30.00000   30.0  3.000000e+01  \n",
       "mean    603.066667   87004.80000    1.0  7.875450e+06  \n",
       "std    1042.513042   56532.29316    0.0  1.124991e+07  \n",
       "min       1.000000   51553.00000    1.0  6.963100e+04  \n",
       "25%     107.000000   54896.25000    1.0  6.466810e+05  \n",
       "50%     298.000000   66211.00000    1.0  2.959433e+06  \n",
       "75%     635.500000   93439.25000    1.0  9.935865e+06  \n",
       "max    5650.000000  323946.00000    1.0  4.347943e+07  "
      ]
     },
     "execution_count": 11,
     "metadata": {},
     "output_type": "execute_result"
    }
   ],
   "source": [
    "df.describe()"
   ]
  },
  {
   "cell_type": "code",
   "execution_count": 3,
   "id": "b806512f",
   "metadata": {},
   "outputs": [
    {
     "name": "stdout",
     "output_type": "stream",
     "text": [
      "   total_count  incomplete_results  \\\n",
      "0        99812               False   \n",
      "1        99812               False   \n",
      "2        99812               False   \n",
      "3        99812               False   \n",
      "4        99812               False   \n",
      "\n",
      "                                               items  \n",
      "0  {'id': 28457823, 'node_id': 'MDEwOlJlcG9zaXRvc...  \n",
      "1  {'id': 11730342, 'node_id': 'MDEwOlJlcG9zaXRvc...  \n",
      "2  {'id': 10270250, 'node_id': 'MDEwOlJlcG9zaXRvc...  \n",
      "3  {'id': 2126244, 'node_id': 'MDEwOlJlcG9zaXRvcn...  \n",
      "4  {'id': 6498492, 'node_id': 'MDEwOlJlcG9zaXRvcn...  \n"
     ]
    }
   ],
   "source": [
    "print(df.head())"
   ]
  },
  {
   "cell_type": "code",
   "execution_count": 4,
   "id": "bb18a8fa",
   "metadata": {},
   "outputs": [
    {
     "name": "stdout",
     "output_type": "stream",
     "text": [
      "0     {'id': 28457823, 'node_id': 'MDEwOlJlcG9zaXRvc...\n",
      "1     {'id': 11730342, 'node_id': 'MDEwOlJlcG9zaXRvc...\n",
      "2     {'id': 10270250, 'node_id': 'MDEwOlJlcG9zaXRvc...\n",
      "3     {'id': 2126244, 'node_id': 'MDEwOlJlcG9zaXRvcn...\n",
      "4     {'id': 6498492, 'node_id': 'MDEwOlJlcG9zaXRvcn...\n",
      "5     {'id': 126577260, 'node_id': 'MDEwOlJlcG9zaXRv...\n",
      "6     {'id': 943149, 'node_id': 'MDEwOlJlcG9zaXRvcnk...\n",
      "7     {'id': 29028775, 'node_id': 'MDEwOlJlcG9zaXRvc...\n",
      "8     {'id': 63537249, 'node_id': 'MDEwOlJlcG9zaXRvc...\n",
      "9     {'id': 23088740, 'node_id': 'MDEwOlJlcG9zaXRvc...\n",
      "10    {'id': 27193779, 'node_id': 'MDEwOlJlcG9zaXRvc...\n",
      "11    {'id': 112507086, 'node_id': 'MDEwOlJlcG9zaXRv...\n",
      "12    {'id': 576201, 'node_id': 'MDEwOlJlcG9zaXRvcnk...\n",
      "13    {'id': 23083156, 'node_id': 'MDEwOlJlcG9zaXRvc...\n",
      "14    {'id': 70107786, 'node_id': 'MDEwOlJlcG9zaXRvc...\n",
      "15    {'id': 3470471, 'node_id': 'MDEwOlJlcG9zaXRvcn...\n",
      "16    {'id': 103633984, 'node_id': 'MDEwOlJlcG9zaXRv...\n",
      "17    {'id': 460078, 'node_id': 'MDEwOlJlcG9zaXRvcnk...\n",
      "18    {'id': 36633370, 'node_id': 'MDEwOlJlcG9zaXRvc...\n",
      "19    {'id': 3678731, 'node_id': 'MDEwOlJlcG9zaXRvcn...\n",
      "20    {'id': 1861458, 'node_id': 'MDEwOlJlcG9zaXRvcn...\n",
      "21    {'id': 3228505, 'node_id': 'MDEwOlJlcG9zaXRvcn...\n",
      "22    {'id': 167174, 'node_id': 'MDEwOlJlcG9zaXRvcnk...\n",
      "23    {'id': 14747598, 'node_id': 'MDEwOlJlcG9zaXRvc...\n",
      "24    {'id': 62607227, 'node_id': 'MDEwOlJlcG9zaXRvc...\n",
      "25    {'id': 8843683, 'node_id': 'MDEwOlJlcG9zaXRvcn...\n",
      "26    {'id': 557980, 'node_id': 'MDEwOlJlcG9zaXRvcnk...\n",
      "27    {'id': 237159, 'node_id': 'MDEwOlJlcG9zaXRvcnk...\n",
      "28    {'id': 74791366, 'node_id': 'MDEwOlJlcG9zaXRvc...\n",
      "29    {'id': 4311796, 'node_id': 'MDEwOlJlcG9zaXRvcn...\n",
      "Name: items, dtype: object\n"
     ]
    }
   ],
   "source": [
    "print(df[\"items\"])"
   ]
  }
 ],
 "metadata": {
  "kernelspec": {
   "display_name": "Python 3",
   "language": "python",
   "name": "python3"
  },
  "language_info": {
   "codemirror_mode": {
    "name": "ipython",
    "version": 3
   },
   "file_extension": ".py",
   "mimetype": "text/x-python",
   "name": "python",
   "nbconvert_exporter": "python",
   "pygments_lexer": "ipython3",
   "version": "3.7.10"
  },
  "widgets": {
   "application/vnd.jupyter.widget-state+json": {
    "state": {},
    "version_major": 2,
    "version_minor": 0
   }
  }
 },
 "nbformat": 4,
 "nbformat_minor": 5
}
